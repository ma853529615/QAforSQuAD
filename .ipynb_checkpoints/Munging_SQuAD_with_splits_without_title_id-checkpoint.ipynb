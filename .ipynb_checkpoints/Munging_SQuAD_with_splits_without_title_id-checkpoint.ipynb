{
 "cells": [
  {
   "cell_type": "code",
   "execution_count": 14,
   "metadata": {},
   "outputs": [],
   "source": [
    "import collections\n",
    "import json\n",
    "import numpy as np\n",
    "import pandas as pd\n",
    "import nltk\n",
    "\n",
    "from argparse import Namespace"
   ]
  },
  {
   "cell_type": "code",
   "execution_count": 15,
   "metadata": {},
   "outputs": [],
   "source": [
    "\n",
    "args = Namespace(\n",
    "    path = \"C:/Users/85352/Desktop/python/data/SQuAd/BatchSQuAD\",\n",
    "    train_proportion=0.7,\n",
    "    val_proportion=0.15,\n",
    "    test_proportion=0.15,\n",
    "    output_munged_csv=\"C:/Users/85352/Desktop/python/data/SQuAd/SQuAD_with_splits_without_title_id.csv\",\n",
    "    seed=1337\n",
    ")"
   ]
  },
  {
   "cell_type": "code",
   "execution_count": 16,
   "metadata": {},
   "outputs": [],
   "source": [
    "np.random.seed(args.seed)"
   ]
  },
  {
   "cell_type": "code",
   "execution_count": 25,
   "metadata": {},
   "outputs": [],
   "source": [
    "QADataset = []\n",
    "\n",
    "fp = open(args.path+\"/batch_{}.json\".format(0))\n",
    "batch = json.load(fp)\n",
    "for para in batch:\n",
    "    for par in para['paragraphs']:\n",
    "        sample = {}\n",
    "        for question in par['qas']:\n",
    "            sample['context'] = par['context'].split(\" \")\n",
    "            sample['question'] = question['question'].split(\" \")\n",
    "            sample['answers'] = question['answers']\n",
    "            sample['is_impossible'] = question['is_impossible']\n",
    "            QADataset.append(sample)\n",
    "fp.close()"
   ]
  },
  {
   "cell_type": "code",
   "execution_count": 26,
   "metadata": {},
   "outputs": [],
   "source": [
    "np.random.shuffle(QADataset)\n",
    "n = len(QADataset)\n",
    "n_train = int(args.train_proportion*n)\n",
    "n_val = int(args.val_proportion*n)\n",
    "n_test = int(args.test_proportion*n)\n",
    "    \n",
    "    # Give data point a split attribute\n",
    "for sample in QADataset[:n_train]:\n",
    "    sample['split'] = 'train'\n",
    "for sample in QADataset[n_train:n_train+n_val]:\n",
    "    sample['split'] = 'val'\n",
    "for sample in QADataset[n_train+n_val:]:\n",
    "    sample['split'] = 'test' "
   ]
  },
  {
   "cell_type": "code",
   "execution_count": 27,
   "metadata": {},
   "outputs": [],
   "source": [
    "final_dataset = pd.DataFrame(QADataset)\n"
   ]
  },
  {
   "cell_type": "code",
   "execution_count": 28,
   "metadata": {},
   "outputs": [
    {
     "data": {
      "text/html": [
       "<div>\n",
       "<style scoped>\n",
       "    .dataframe tbody tr th:only-of-type {\n",
       "        vertical-align: middle;\n",
       "    }\n",
       "\n",
       "    .dataframe tbody tr th {\n",
       "        vertical-align: top;\n",
       "    }\n",
       "\n",
       "    .dataframe thead th {\n",
       "        text-align: right;\n",
       "    }\n",
       "</style>\n",
       "<table border=\"1\" class=\"dataframe\">\n",
       "  <thead>\n",
       "    <tr style=\"text-align: right;\">\n",
       "      <th></th>\n",
       "      <th>answers</th>\n",
       "      <th>context</th>\n",
       "      <th>is_impossible</th>\n",
       "      <th>question</th>\n",
       "      <th>split</th>\n",
       "    </tr>\n",
       "  </thead>\n",
       "  <tbody>\n",
       "    <tr>\n",
       "      <th>0</th>\n",
       "      <td>[{'text': 'human rights concerns', 'answer_sta...</td>\n",
       "      <td>[In, September, 2013,, West, was, widely, rebu...</td>\n",
       "      <td>False</td>\n",
       "      <td>[For, what, reason, did, Sting, and, other, ar...</td>\n",
       "      <td>train</td>\n",
       "    </tr>\n",
       "    <tr>\n",
       "      <th>1</th>\n",
       "      <td>[{'text': '$3.5 billion', 'answer_start': 236}]</td>\n",
       "      <td>[On, October, 22,, 2007,, Apple, reported, qua...</td>\n",
       "      <td>False</td>\n",
       "      <td>[With, the, help, of, strong, iPod, sales,, ho...</td>\n",
       "      <td>train</td>\n",
       "    </tr>\n",
       "    <tr>\n",
       "      <th>2</th>\n",
       "      <td>[{'text': 'ISO 10217', 'answer_start': 182}]</td>\n",
       "      <td>[The, International, Organization, for, Standa...</td>\n",
       "      <td>False</td>\n",
       "      <td>[What, is, the, name, of, the, standard, relat...</td>\n",
       "      <td>train</td>\n",
       "    </tr>\n",
       "    <tr>\n",
       "      <th>3</th>\n",
       "      <td>[{'text': '5.2 years', 'answer_start': 183}]</td>\n",
       "      <td>[The, breed, with, the, shortest, lifespan, (a...</td>\n",
       "      <td>False</td>\n",
       "      <td>[What, is, the, average, lifespan, for, a, Dog...</td>\n",
       "      <td>train</td>\n",
       "    </tr>\n",
       "    <tr>\n",
       "      <th>4</th>\n",
       "      <td>[{'text': '17', 'answer_start': 631}]</td>\n",
       "      <td>[In, 2001,, she, became, the, first, African-A...</td>\n",
       "      <td>False</td>\n",
       "      <td>[What, number, was, Beyoncé, on, the, Top, 20,...</td>\n",
       "      <td>test</td>\n",
       "    </tr>\n",
       "  </tbody>\n",
       "</table>\n",
       "</div>"
      ],
      "text/plain": [
       "                                             answers  \\\n",
       "0  [{'text': 'human rights concerns', 'answer_sta...   \n",
       "1    [{'text': '$3.5 billion', 'answer_start': 236}]   \n",
       "2       [{'text': 'ISO 10217', 'answer_start': 182}]   \n",
       "3       [{'text': '5.2 years', 'answer_start': 183}]   \n",
       "4              [{'text': '17', 'answer_start': 631}]   \n",
       "\n",
       "                                             context  is_impossible  \\\n",
       "0  [In, September, 2013,, West, was, widely, rebu...          False   \n",
       "1  [On, October, 22,, 2007,, Apple, reported, qua...          False   \n",
       "2  [The, International, Organization, for, Standa...          False   \n",
       "3  [The, breed, with, the, shortest, lifespan, (a...          False   \n",
       "4  [In, 2001,, she, became, the, first, African-A...          False   \n",
       "\n",
       "                                            question  split  \n",
       "0  [For, what, reason, did, Sting, and, other, ar...  train  \n",
       "1  [With, the, help, of, strong, iPod, sales,, ho...  train  \n",
       "2  [What, is, the, name, of, the, standard, relat...  train  \n",
       "3  [What, is, the, average, lifespan, for, a, Dog...  train  \n",
       "4  [What, number, was, Beyoncé, on, the, Top, 20,...   test  "
      ]
     },
     "execution_count": 28,
     "metadata": {},
     "output_type": "execute_result"
    }
   ],
   "source": [
    "final_dataset.head()"
   ]
  },
  {
   "cell_type": "code",
   "execution_count": 29,
   "metadata": {},
   "outputs": [
    {
     "data": {
      "text/plain": [
       "test     9870\n",
       "val      2931\n",
       "train    1797\n",
       "Name: split, dtype: int64"
      ]
     },
     "execution_count": 29,
     "metadata": {},
     "output_type": "execute_result"
    }
   ],
   "source": [
    "final_dataset.split.value_counts()"
   ]
  },
  {
   "cell_type": "code",
   "execution_count": 30,
   "metadata": {},
   "outputs": [],
   "source": [
    "final_dataset.to_csv(args.output_munged_csv, index=False)"
   ]
  },
  {
   "cell_type": "code",
   "execution_count": null,
   "metadata": {},
   "outputs": [],
   "source": []
  }
 ],
 "metadata": {
  "kernelspec": {
   "display_name": "Python 3",
   "language": "python",
   "name": "python3"
  },
  "language_info": {
   "codemirror_mode": {
    "name": "ipython",
    "version": 3
   },
   "file_extension": ".py",
   "mimetype": "text/x-python",
   "name": "python",
   "nbconvert_exporter": "python",
   "pygments_lexer": "ipython3",
   "version": "3.7.3"
  }
 },
 "nbformat": 4,
 "nbformat_minor": 2
}
